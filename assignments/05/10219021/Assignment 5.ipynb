{
 "cells": [
  {
   "cell_type": "markdown",
   "id": "57949c9f",
   "metadata": {},
   "source": [
    "Nama: Hartanto Wijaya\n",
    "\n",
    "Email: hartantowijaya12@gmail.com\n",
    "\n",
    "Link Github: https://github.com/HartantoWijaya/fi3201-01-2021-2"
   ]
  }
 ],
 "metadata": {
  "kernelspec": {
   "display_name": "Python 3 (ipykernel)",
   "language": "python",
   "name": "python3"
  },
  "language_info": {
   "codemirror_mode": {
    "name": "ipython",
    "version": 3
   },
   "file_extension": ".py",
   "mimetype": "text/x-python",
   "name": "python",
   "nbconvert_exporter": "python",
   "pygments_lexer": "ipython3",
   "version": "3.10.4"
  }
 },
 "nbformat": 4,
 "nbformat_minor": 5
}
